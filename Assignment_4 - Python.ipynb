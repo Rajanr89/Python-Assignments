{
 "cells": [
  {
   "cell_type": "markdown",
   "metadata": {},
   "source": [
    "# Assignment - 4"
   ]
  },
  {
   "cell_type": "markdown",
   "metadata": {},
   "source": [
    "1.1 Write a Python Program(with class concepts) to find the area of the triangle using the below\n",
    "formula.\n",
    "area = (s*(s-a)*(s-b)*(s-c)) ** 0.5"
   ]
  },
  {
   "cell_type": "code",
   "execution_count": 49,
   "metadata": {},
   "outputs": [
    {
     "name": "stdout",
     "output_type": "stream",
     "text": [
      "The Area of triangle: 34\n"
     ]
    }
   ],
   "source": [
    "import math; #Importing the math lib for finding the sqrt for area\n",
    "\n",
    "class Area_super: #Super class\n",
    "    def __init__(self, a, b, c):\n",
    "        self.lena = a\n",
    "        self.lenb = b\n",
    "        self.lenc = c\n",
    "        \n",
    "    def __str__(self):\n",
    "        return \"The values are %d %d %d\" % (self.lena, self.lenb, self.lenc)\n",
    "\n",
    "        \n",
    "class Area_Triangle(Area_super): #sub class\n",
    "    def __init__(self, *args):\n",
    "        super(Area_Triangle,self).__init__(*args)\n",
    "     \n",
    "    def __str__(self):\n",
    "        s = (self.lena + self.lenb + self.lenc) / 2\n",
    "                \n",
    "        area =  math.sqrt((s*(s-self.lena)*(s-self.lenb)*(s-self.lenc)))\n",
    "        return \"The Area of triangle: %d\" % (area) \n",
    "               \n",
    "        \n",
    "#Callling the class to get the area of the triangle:\n",
    "\n",
    "a = Area_Triangle(8,9,10)\n",
    "print(a)"
   ]
  },
  {
   "cell_type": "code",
   "execution_count": 60,
   "metadata": {},
   "outputs": [
    {
     "name": "stdout",
     "output_type": "stream",
     "text": [
      "Enter the value for side A:6\n",
      "Enter the value for side B:7\n",
      "Enter the value for side C:8\n"
     ]
    },
    {
     "data": {
      "text/plain": [
       "'The Area of triangle: 20'"
      ]
     },
     "execution_count": 60,
     "metadata": {},
     "output_type": "execute_result"
    }
   ],
   "source": [
    "#Another approach by enter the inputs by user:\n",
    "\n",
    "import math; #Importing the math lib for finding the sqrt for area\n",
    "\n",
    "class Area_super: #Super class\n",
    "    def __init__(self, ):\n",
    "        self.lena = int(input('Enter the value for side A:'))\n",
    "        self.lenb = int(input('Enter the value for side B:'))\n",
    "        self.lenc = int(input('Enter the value for side C:'))\n",
    "        \n",
    "    def __str__(self):\n",
    "        return \"The values are %d %d %d\" % (self.lena, self.lenb, self.lenc)\n",
    "\n",
    "        \n",
    "class Area_Triangle(Area_super): #sub class\n",
    "     \n",
    "    def find_area(self):\n",
    "        s = (self.lena + self.lenb + self.lenc) / 2\n",
    "                \n",
    "        area =  math.sqrt((s*(s-self.lena)*(s-self.lenb)*(s-self.lenc)))\n",
    "        return \"The Area of triangle: %d\" % (area) \n",
    "               \n",
    "        \n",
    "#Callling the class to get the area of the triangle:\n",
    "\n",
    "a = Area_Triangle()\n",
    "a.find_area()"
   ]
  },
  {
   "cell_type": "markdown",
   "metadata": {},
   "source": [
    "1.2 Write a function filter_long_words() that takes a list of words and an integer n and returns\n",
    "the list of words that are longer than n."
   ]
  },
  {
   "cell_type": "code",
   "execution_count": 17,
   "metadata": {},
   "outputs": [],
   "source": [
    "#Defining the function to filter the long words\n",
    "\n",
    "def filter_long_words(list, int):\n",
    "    new_list = []\n",
    "    \n",
    "    for i in list:\n",
    "        if len(i) > int:\n",
    "            new_list.append(i)\n",
    "    print(new_list)\n"
   ]
  },
  {
   "cell_type": "code",
   "execution_count": 53,
   "metadata": {},
   "outputs": [
    {
     "name": "stdout",
     "output_type": "stream",
     "text": [
      "['Graphes', 'Apple', 'Banana']\n"
     ]
    }
   ],
   "source": [
    "#Calling the funtion\n",
    "\n",
    "filter_long_words(('Test','Graphes','Apple','Banana'),4)"
   ]
  },
  {
   "cell_type": "markdown",
   "metadata": {},
   "source": [
    "2.1 Write a Python program using function concept that maps list of words into a list of integers\n",
    "representing the lengths of the corresponding words.\n",
    "Hint: If a list [ ab,cde,erty] is passed on to the python function output should come as [2,3,4]\n",
    "Here 2,3 and 4 are the lengths of the words in the list."
   ]
  },
  {
   "cell_type": "code",
   "execution_count": 21,
   "metadata": {},
   "outputs": [],
   "source": [
    "#Function is for counting the strings in the list\n",
    "\n",
    "def count_len(list):\n",
    "    new_list = []\n",
    "    \n",
    "    for i in list:\n",
    "        new_list.append(len(i))\n",
    "    \n",
    "    print(new_list)"
   ]
  },
  {
   "cell_type": "code",
   "execution_count": 25,
   "metadata": {},
   "outputs": [
    {
     "name": "stdout",
     "output_type": "stream",
     "text": [
      "[2, 2, 5, 14]\n"
     ]
    }
   ],
   "source": [
    "#Calling the function to find the cound of the strings in the list\n",
    "\n",
    "list = ['ab','bc','abccd','Testing Length']\n",
    "count_len(list)"
   ]
  },
  {
   "cell_type": "markdown",
   "metadata": {},
   "source": [
    "2.2 Write a Python function which takes a character (i.e. a string of length 1) and returns True if\n",
    "it is a vowel, False otherwise."
   ]
  },
  {
   "cell_type": "code",
   "execution_count": 45,
   "metadata": {},
   "outputs": [],
   "source": [
    "#Defining funtion to find the given string is vowel or not\n",
    "\n",
    "def is_vowel(str):\n",
    "    if str in ('a','e','i','o','u'):\n",
    "        print('The given string %s is a vowel' %str)\n",
    "        return True\n",
    "    else:\n",
    "        print('The given string %s is not a vowel' %str)\n",
    "        return False\n"
   ]
  },
  {
   "cell_type": "code",
   "execution_count": 56,
   "metadata": {},
   "outputs": [
    {
     "name": "stdout",
     "output_type": "stream",
     "text": [
      "The given string p is not a vowel\n"
     ]
    },
    {
     "data": {
      "text/plain": [
       "False"
      ]
     },
     "execution_count": 56,
     "metadata": {},
     "output_type": "execute_result"
    }
   ],
   "source": [
    "#Example for a given string is not a vowel\n",
    "is_vowel('p')"
   ]
  },
  {
   "cell_type": "code",
   "execution_count": 57,
   "metadata": {},
   "outputs": [
    {
     "name": "stdout",
     "output_type": "stream",
     "text": [
      "The given string a is a vowel\n"
     ]
    },
    {
     "data": {
      "text/plain": [
       "True"
      ]
     },
     "execution_count": 57,
     "metadata": {},
     "output_type": "execute_result"
    }
   ],
   "source": [
    "#Example for a given string is a vowel\n",
    "is_vowel('a')"
   ]
  },
  {
   "cell_type": "code",
   "execution_count": null,
   "metadata": {},
   "outputs": [],
   "source": []
  }
 ],
 "metadata": {
  "kernelspec": {
   "display_name": "Python 3",
   "language": "python",
   "name": "python3"
  },
  "language_info": {
   "codemirror_mode": {
    "name": "ipython",
    "version": 3
   },
   "file_extension": ".py",
   "mimetype": "text/x-python",
   "name": "python",
   "nbconvert_exporter": "python",
   "pygments_lexer": "ipython3",
   "version": "3.7.3"
  }
 },
 "nbformat": 4,
 "nbformat_minor": 2
}
