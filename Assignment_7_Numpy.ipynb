{
  "nbformat": 4,
  "nbformat_minor": 0,
  "metadata": {
    "colab": {
      "name": "Assignment_7_Numpy.ipynb",
      "provenance": [],
      "collapsed_sections": []
    },
    "kernelspec": {
      "name": "python3",
      "display_name": "Python 3"
    }
  },
  "cells": [
    {
      "cell_type": "markdown",
      "metadata": {
        "id": "zORgySd7LSZ1",
        "colab_type": "text"
      },
      "source": [
        ""
      ]
    },
    {
      "cell_type": "markdown",
      "metadata": {
        "id": "RledPZFtPSQx",
        "colab_type": "text"
      },
      "source": [
        "Write a function so that the columns of the output matrix are powers of the input\n",
        "vector.\n",
        "The order of the powers is determined by the increasing boolean argument. Specifically, when\n",
        "increasing is False, the i-th output column is the input vector raised element-wise to the power\n",
        "of N - i - 1.\n",
        "\n",
        "HINT: Such a matrix with a geometric progression in each row is named for Alexandre-\n",
        "Theophile Vandermonde."
      ]
    },
    {
      "cell_type": "code",
      "metadata": {
        "id": "OO84DzK1PD5j",
        "colab_type": "code",
        "colab": {}
      },
      "source": [
        "import numpy as np"
      ],
      "execution_count": 0,
      "outputs": []
    },
    {
      "cell_type": "code",
      "metadata": {
        "id": "_paJ7XGuPW2I",
        "colab_type": "code",
        "colab": {}
      },
      "source": [
        "def gen_vander_matrix(ipvector, n, increasing=False):\n",
        "    \n",
        "    if not increasing:\n",
        "        op_matx = np.array([x**(n-1-i) for x in ipvector for i in range(n)]).reshape(ipvector.size,n)\n",
        "    elif increasing:\n",
        "        op_matx = np.array([x**i for x in ipvector for i in range(n)]).reshape(ipvector.size,n)\n",
        "    \n",
        "    return op_matx"
      ],
      "execution_count": 0,
      "outputs": []
    },
    {
      "cell_type": "code",
      "metadata": {
        "id": "0rIsK8IAQMwB",
        "colab_type": "code",
        "colab": {
          "base_uri": "https://localhost:8080/",
          "height": 34
        },
        "outputId": "678845ce-4ee6-421c-a798-63ddd454f985"
      },
      "source": [
        "inputvector = np.array([1,2,3,4,5])\n",
        "print(inputvector)"
      ],
      "execution_count": 4,
      "outputs": [
        {
          "output_type": "stream",
          "text": [
            "[1 2 3 4 5]\n"
          ],
          "name": "stdout"
        }
      ]
    },
    {
      "cell_type": "code",
      "metadata": {
        "id": "dRIoff10QH44",
        "colab_type": "code",
        "colab": {
          "base_uri": "https://localhost:8080/",
          "height": 391
        },
        "outputId": "9bdbf339-d810-42d0-8b57-56b243a27a0d"
      },
      "source": [
        "print(\"------------OUTPUT-------------\\n\")\n",
        "\n",
        "inputvector = np.array([1,2,3,4,5])\n",
        "no_col = 3\n",
        "op_matx_dec_order = gen_vander_matrix(inputvector,no_col,False)\n",
        "op_matx_inc_order = gen_vander_matrix(inputvector,no_col,True)\n",
        "\n",
        "print(\"The input array is:\",inputvector,\"\\n\")\n",
        "print(\"Number of columns in output matrix should be:\",no_col,\"\\n\")\n",
        "print(\"Vander matrix of the input array in decreasing order of powers:\\n\\n\",op_matx_dec_order,\"\\n\")\n",
        "print(\"Vander matrix of the input array in increasing order of powers:\\n\\n\",op_matx_inc_order,\"\\n\")"
      ],
      "execution_count": 11,
      "outputs": [
        {
          "output_type": "stream",
          "text": [
            "------------OUTPUT-------------\n",
            "\n",
            "The input array is: [1 2 3 4 5] \n",
            "\n",
            "Number of columns in output matrix should be: 3 \n",
            "\n",
            "Vander matrix of the input array in decreasing order of powers:\n",
            "\n",
            " [[ 1  1  1]\n",
            " [ 4  2  1]\n",
            " [ 9  3  1]\n",
            " [16  4  1]\n",
            " [25  5  1]] \n",
            "\n",
            "Vander matrix of the input array in increasing order of powers:\n",
            "\n",
            " [[ 1  1  1]\n",
            " [ 1  2  4]\n",
            " [ 1  3  9]\n",
            " [ 1  4 16]\n",
            " [ 1  5 25]] \n",
            "\n"
          ],
          "name": "stdout"
        }
      ]
    },
    {
      "cell_type": "markdown",
      "metadata": {
        "id": "sVlSMbRyPE-q",
        "colab_type": "text"
      },
      "source": [
        "**Problem Statement:**\n",
        "\n",
        "Given a sequence of n values x1, x2, ..., xn and a window size k>0, the k-th moving average of\n",
        "the given sequence is defined as follows:\n",
        "The moving average sequence has n-k+1 elements as shown below.\n",
        "The moving averages with k=4 of a ten-value sequence (n=10) is shown below\n",
        "i 1 2 3 4 5 6 7 8 9 10\n",
        "===== == == == == == == == == == ==\n",
        "Input 10 20 30 40 50 60 70 80 90 100\n",
        "y1 25 = (10+20+30+40)/4\n",
        "y2 35 = (20+30+40+50)/4\n",
        "y3 45 = (30+40+50+60)/4\n",
        "y4 55 = (40+50+60+70)/4\n",
        "y5 65 = (50+60+70+80)/4\n",
        "y6 75 = (60+70+80+90)/4\n",
        "y7 85 = (70+80+90+100)/4\n",
        "Thus, the moving average sequence has n-k+1=10-4+1=7 values."
      ]
    },
    {
      "cell_type": "markdown",
      "metadata": {
        "id": "_allgpgQLdy1",
        "colab_type": "text"
      },
      "source": [
        "Write a function to find moving average in an array over a window:\n",
        "Test it over [3, 5, 7, 2, 8, 10, 11, 65, 72, 81, 99, 100, 150] and window of 3."
      ]
    },
    {
      "cell_type": "code",
      "metadata": {
        "id": "T1mtKRarLeUa",
        "colab_type": "code",
        "colab": {}
      },
      "source": [
        "import numpy as np"
      ],
      "execution_count": 0,
      "outputs": []
    },
    {
      "cell_type": "code",
      "metadata": {
        "id": "xF5ahSSGNRCy",
        "colab_type": "code",
        "colab": {}
      },
      "source": [
        "def moving_average(data,window):\n",
        "  w = np.repeat(1.0,window)/window\n",
        "  return np.convolve(data,w,'valid')"
      ],
      "execution_count": 0,
      "outputs": []
    },
    {
      "cell_type": "code",
      "metadata": {
        "id": "9Bs9MO0fODLM",
        "colab_type": "code",
        "outputId": "039abfec-73ce-499a-e7b4-8ac231c03159",
        "colab": {
          "base_uri": "https://localhost:8080/",
          "height": 170
        }
      },
      "source": [
        "data = [3, 5, 7, 2, 8, 10, 11, 65, 72, 81, 99, 100, 150]\n",
        "\n",
        "print(\"------------OUTPUT-------------\\n\")\n",
        "print(\"The input array is:\",data,\"\\n\")\n",
        "\n",
        "print(\"------------The moving average is-------------\\n\")\n",
        "moving_average(np.asarray(data), 3)\n",
        "\n"
      ],
      "execution_count": 15,
      "outputs": [
        {
          "output_type": "stream",
          "text": [
            "------------OUTPUT-------------\n",
            "\n",
            "The input array is: [3, 5, 7, 2, 8, 10, 11, 65, 72, 81, 99, 100, 150] \n",
            "\n",
            "------------The moving average is-------------\n",
            "\n"
          ],
          "name": "stdout"
        },
        {
          "output_type": "execute_result",
          "data": {
            "text/plain": [
              "array([  5.        ,   4.66666667,   5.66666667,   6.66666667,\n",
              "         9.66666667,  28.66666667,  49.33333333,  72.66666667,\n",
              "        84.        ,  93.33333333, 116.33333333])"
            ]
          },
          "metadata": {
            "tags": []
          },
          "execution_count": 15
        }
      ]
    },
    {
      "cell_type": "code",
      "metadata": {
        "id": "Ic4ieYI2Ou0l",
        "colab_type": "code",
        "colab": {}
      },
      "source": [
        ""
      ],
      "execution_count": 0,
      "outputs": []
    }
  ]
}