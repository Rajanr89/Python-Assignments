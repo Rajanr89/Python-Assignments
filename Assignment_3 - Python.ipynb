{
 "cells": [
  {
   "cell_type": "markdown",
   "metadata": {},
   "source": [
    "# Assignment - 3"
   ]
  },
  {
   "cell_type": "markdown",
   "metadata": {},
   "source": [
    "1.1 Write a Python Program to implement your own myreduce() function which works exactly\n",
    "like Python's built-in function reduce()"
   ]
  },
  {
   "cell_type": "code",
   "execution_count": 2,
   "metadata": {},
   "outputs": [
    {
     "name": "stdout",
     "output_type": "stream",
     "text": [
      "15\n"
     ]
    }
   ],
   "source": [
    "#Funtion for adding the numbers\n",
    "def add(x,y):\n",
    "    return x+y\n",
    "\n",
    "#Custom reduce function\n",
    "def my_reduce(function, itr):\n",
    "    first = itr[0]\n",
    "    \n",
    "    for i in itr[1:]:\n",
    "        first=function(first,i)\n",
    "        \n",
    "    return first\n",
    "\n",
    "        \n",
    "#Printing the results\n",
    "print(my_reduce(add,[1,2,3,4,5]))        "
   ]
  },
  {
   "cell_type": "code",
   "execution_count": 3,
   "metadata": {},
   "outputs": [
    {
     "name": "stdout",
     "output_type": "stream",
     "text": [
      "24\n"
     ]
    }
   ],
   "source": [
    "#Printing the results using the lambda function in reduce\n",
    "result = my_reduce(lambda x,y:x+y, [9,8,7])\n",
    "print(result)"
   ]
  },
  {
   "cell_type": "markdown",
   "metadata": {},
   "source": [
    "1.2 Write a Python program to implement your own myfilter() function which works exactly\n",
    "like Python's built-in function filter()"
   ]
  },
  {
   "cell_type": "code",
   "execution_count": 4,
   "metadata": {},
   "outputs": [
    {
     "name": "stdout",
     "output_type": "stream",
     "text": [
      "[2, 4, 6, 8, 10, 12, 22, 20, 30]\n"
     ]
    }
   ],
   "source": [
    "#Checking the number is even\n",
    "def is_even(item):\n",
    "    if item % 2 ==0:\n",
    "        return True\n",
    "    else:\n",
    "        return False\n",
    "\n",
    "#custom filter function to get the new list for even numbers\n",
    "def my_filter(function, itr):\n",
    "    new_list=[]\n",
    "    for i in itr:\n",
    "        if function(i):\n",
    "            new_list.append(i)\n",
    "    return new_list\n",
    "\n",
    "\n",
    "#Creating a list\n",
    "lst = [1,2,3,4,5,6,7,8,9,10,11,12,22,19,20,30]\n",
    "print(my_filter(is_even,lst))\n"
   ]
  },
  {
   "cell_type": "code",
   "execution_count": 5,
   "metadata": {},
   "outputs": [
    {
     "name": "stdout",
     "output_type": "stream",
     "text": [
      "[2, 4, 6, 8, 10, 12, 22, 20, 30]\n"
     ]
    }
   ],
   "source": [
    "#custom filter with list comprehension\n",
    "def my_filter(is_even,lst):\n",
    "    return [i for i in lst if is_even(i)] \n",
    "\n",
    "print(my_filter(is_even,lst))\n",
    "    "
   ]
  },
  {
   "cell_type": "markdown",
   "metadata": {},
   "source": [
    "2. Implement List comprehensions to produce the following lists.\n",
    "Write List comprehensions to produce the following Lists"
   ]
  },
  {
   "cell_type": "code",
   "execution_count": 6,
   "metadata": {},
   "outputs": [
    {
     "name": "stdout",
     "output_type": "stream",
     "text": [
      "['x', 'xx', 'xxx', 'xxxx', 'y', 'yy', 'yyy', 'yyyy', 'z', 'zz', 'zzz', 'zzzz']\n"
     ]
    }
   ],
   "source": [
    "#Defining x,y,z and range for looping 1 to 5.\n",
    "l = ['x','y','z']\n",
    "\n",
    "print([i*j for i in l for j in range(1,5)])"
   ]
  },
  {
   "cell_type": "code",
   "execution_count": 7,
   "metadata": {},
   "outputs": [
    {
     "name": "stdout",
     "output_type": "stream",
     "text": [
      "['x', 'y', 'z', 'xx', 'yy', 'zz', 'xxx', 'yyy', 'zzz', 'xxxx', 'yyyy', 'zzzz']\n"
     ]
    }
   ],
   "source": [
    "#Defining x,y,z and range for looping 1 to 5.\n",
    "l = ['x','y','z']\n",
    "\n",
    "print([k*i for i in range(1,5) for k in l])"
   ]
  },
  {
   "cell_type": "code",
   "execution_count": 8,
   "metadata": {},
   "outputs": [
    {
     "name": "stdout",
     "output_type": "stream",
     "text": [
      "[[2], [3], [4], [3], [4], [5], [4], [5], [6]] [[2, 3, 4, 5], [3, 4, 5, 6], [4, 5, 6, 7], [5, 6, 7, 8]]\n"
     ]
    }
   ],
   "source": [
    "l = [2,3,4,5]\n",
    "m = [2,3,4]\n",
    "\n",
    "print([[x+y] for x in m for y in range(3)],[list(map(lambda x:x+j, l)) for j in range(4)])\n"
   ]
  },
  {
   "cell_type": "code",
   "execution_count": 9,
   "metadata": {},
   "outputs": [
    {
     "name": "stdout",
     "output_type": "stream",
     "text": [
      "[[2], [3], [4], [3], [4], [5], [4], [5], [6]] [[2, 3, 4, 5], [2, 3, 4, 5], [2, 3, 4, 5], [2, 3, 4, 5]]\n"
     ]
    }
   ],
   "source": [
    "l = [2,3,4,5]\n",
    "m = [2,3,4]\n",
    "\n",
    "print([[x+y] for x in m for y in range(3)],[l for x in l ])"
   ]
  },
  {
   "cell_type": "code",
   "execution_count": 10,
   "metadata": {},
   "outputs": [
    {
     "name": "stdout",
     "output_type": "stream",
     "text": [
      "[(1, 1), (2, 1), (3, 1), (1, 2), (2, 2), (3, 2), (1, 3), (2, 3), (3, 3)]\n"
     ]
    }
   ],
   "source": [
    "print([(y,x) for x in range(1,4) for y in range(1,4)])"
   ]
  },
  {
   "cell_type": "code",
   "execution_count": null,
   "metadata": {},
   "outputs": [],
   "source": []
  },
  {
   "cell_type": "code",
   "execution_count": null,
   "metadata": {},
   "outputs": [],
   "source": []
  },
  {
   "cell_type": "code",
   "execution_count": null,
   "metadata": {},
   "outputs": [],
   "source": []
  }
 ],
 "metadata": {
  "kernelspec": {
   "display_name": "Python 3",
   "language": "python",
   "name": "python3"
  },
  "language_info": {
   "codemirror_mode": {
    "name": "ipython",
    "version": 3
   },
   "file_extension": ".py",
   "mimetype": "text/x-python",
   "name": "python",
   "nbconvert_exporter": "python",
   "pygments_lexer": "ipython3",
   "version": "3.7.3"
  }
 },
 "nbformat": 4,
 "nbformat_minor": 2
}
